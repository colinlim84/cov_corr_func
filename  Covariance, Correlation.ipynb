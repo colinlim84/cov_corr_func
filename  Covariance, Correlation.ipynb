{
 "cells": [
  {
   "cell_type": "markdown",
   "id": "202ba4cb",
   "metadata": {},
   "source": [
    "# Covariance, Correlation\n",
    "__Task__ : Given a dataframe, create a function that calculate correlation, covariance without using the numpy.cov"
   ]
  },
  {
   "cell_type": "markdown",
   "id": "f667ded5",
   "metadata": {},
   "source": [
    "## Set up a dataframe"
   ]
  },
  {
   "cell_type": "code",
   "execution_count": 1,
   "id": "b2aefee6",
   "metadata": {},
   "outputs": [
    {
     "data": {
      "text/html": [
       "<div>\n",
       "<style scoped>\n",
       "    .dataframe tbody tr th:only-of-type {\n",
       "        vertical-align: middle;\n",
       "    }\n",
       "\n",
       "    .dataframe tbody tr th {\n",
       "        vertical-align: top;\n",
       "    }\n",
       "\n",
       "    .dataframe thead th {\n",
       "        text-align: right;\n",
       "    }\n",
       "</style>\n",
       "<table border=\"1\" class=\"dataframe\">\n",
       "  <thead>\n",
       "    <tr style=\"text-align: right;\">\n",
       "      <th></th>\n",
       "      <th>column1</th>\n",
       "      <th>column2</th>\n",
       "    </tr>\n",
       "  </thead>\n",
       "  <tbody>\n",
       "    <tr>\n",
       "      <th>0</th>\n",
       "      <td>3.489598</td>\n",
       "      <td>58.787053</td>\n",
       "    </tr>\n",
       "    <tr>\n",
       "      <th>1</th>\n",
       "      <td>3.865043</td>\n",
       "      <td>46.028437</td>\n",
       "    </tr>\n",
       "    <tr>\n",
       "      <th>2</th>\n",
       "      <td>2.339022</td>\n",
       "      <td>52.222332</td>\n",
       "    </tr>\n",
       "    <tr>\n",
       "      <th>3</th>\n",
       "      <td>2.430440</td>\n",
       "      <td>27.490359</td>\n",
       "    </tr>\n",
       "    <tr>\n",
       "      <th>4</th>\n",
       "      <td>3.769574</td>\n",
       "      <td>55.098161</td>\n",
       "    </tr>\n",
       "  </tbody>\n",
       "</table>\n",
       "</div>"
      ],
      "text/plain": [
       "    column1    column2\n",
       "0  3.489598  58.787053\n",
       "1  3.865043  46.028437\n",
       "2  2.339022  52.222332\n",
       "3  2.430440  27.490359\n",
       "4  3.769574  55.098161"
      ]
     },
     "execution_count": 1,
     "metadata": {},
     "output_type": "execute_result"
    }
   ],
   "source": [
    "import numpy as np\n",
    "import pandas as pd\n",
    "\n",
    "pd.set_option('display.max_row', None)\n",
    "\n",
    "x = np.random.normal(3, 1, 100)\n",
    "y = np.random.normal(50, 10, 100)\n",
    "\n",
    "df = pd.DataFrame({'column1' : x, 'column2' : y})\n",
    "\n",
    "df.head()"
   ]
  },
  {
   "cell_type": "markdown",
   "id": "3a562ae2",
   "metadata": {},
   "source": [
    "## Covariance\n",
    "There're 2 formulas calculating 'Covariance' depending if data is from sample population or entire population \n",
    "<br>\n",
    "<br>\n",
    "<br>\n",
    "Population Covariance = $\\frac{1}{n} \\sum_{i=1}^{n} (x_i - \\bar{x})(y_i - \\bar{y}) / n$\n",
    "<br>\n",
    "Sample Covariance = $\\frac{1}{n} \\sum_{i=1}^{n} (x_i - \\bar{x})(y_i - \\bar{y}) / (n-1)$\n",
    "<br>\n",
    "<br>\n",
    "<br>\n",
    "I'll go with the sample Covariance forumula in this task since it's more often than not the more likely scenario"
   ]
  },
  {
   "cell_type": "code",
   "execution_count": 2,
   "id": "3c124b82",
   "metadata": {},
   "outputs": [],
   "source": [
    "def cov(df, x, y):\n",
    "    '''\n",
    "    Given a dataframe, calculate the covariance between 2 columns\n",
    "    \n",
    "    Parameters :\n",
    "    - df (Dataframe): Dataframe containing the data\n",
    "    - x (str) : Name of the first column\n",
    "    - y (str) : Name of the second column\n",
    "    \n",
    "    Returns :\n",
    "    - float : Covariance of the 2 columns\n",
    "    '''\n",
    "    x_mean = df[x].mean()\n",
    "    y_mean = df[x].mean()\n",
    "    \n",
    "    return sum((df[x] - x_mean)*(df[y] - y_mean))/(len(df)-1)"
   ]
  },
  {
   "cell_type": "markdown",
   "id": "93238e4e",
   "metadata": {},
   "source": [
    "## Correlation\n",
    "\n",
    "Correlation = $\\frac{{\\text{cov}(X, Y)}}{{\\sigma_X \\cdot \\sigma_Y}}$"
   ]
  },
  {
   "cell_type": "code",
   "execution_count": 3,
   "id": "314d902f",
   "metadata": {},
   "outputs": [],
   "source": [
    "def corr(df, x, y) :\n",
    "    '''\n",
    "    Given a dataframe, calculate the correlation between 2 columns\n",
    "    \n",
    "    Parameters :\n",
    "    - df (Dataframe): Dataframe containing the data\n",
    "    - x (str) : Name of the first column\n",
    "    - y (str) : Name of the second column\n",
    "    \n",
    "    Returns :\n",
    "    - float : Correlation of the 2 columns\n",
    "    '''\n",
    "    return cov(df, x, y)/(df[x].std()*df[y].std())"
   ]
  },
  {
   "cell_type": "markdown",
   "id": "aee90680",
   "metadata": {},
   "source": [
    "## Call the functions"
   ]
  },
  {
   "cell_type": "code",
   "execution_count": 4,
   "id": "9fc9e9c1",
   "metadata": {},
   "outputs": [
    {
     "name": "stdout",
     "output_type": "stream",
     "text": [
      "Covariance : -1.04\n",
      "Correlation : -0.09\n"
     ]
    }
   ],
   "source": [
    "cov_computed = cov(df, \"column1\", \"column2\")\n",
    "corr_computed = corr(df, \"column1\", \"column2\")\n",
    "\n",
    "\n",
    "print(f'Covariance : {cov_computed:.2f}')\n",
    "print(f'Correlation : {corr_computed:.2f}')"
   ]
  },
  {
   "cell_type": "markdown",
   "id": "50de716b",
   "metadata": {},
   "source": [
    "## Sanity Check"
   ]
  },
  {
   "cell_type": "code",
   "execution_count": 5,
   "id": "74acfa16",
   "metadata": {},
   "outputs": [
    {
     "name": "stdout",
     "output_type": "stream",
     "text": [
      "Difference between covariance computed by custom function and numpy.cov : 0.00000\n",
      "Difference between correlation computed by custom function and pd.corr : 0.00000\n"
     ]
    }
   ],
   "source": [
    "np_cov = np.cov(df['column1'], df['column2'])[0, 1]\n",
    "pd_corr = df['column1'].corr(df['column2'])\n",
    "\n",
    "cov_diff = cov_computed - np_cov\n",
    "corr_diff = corr_computed - pd_corr\n",
    "\n",
    "print(f'Difference between covariance computed by custom function and numpy.cov : {cov_diff:.5f}')\n",
    "print(f'Difference between correlation computed by custom function and pd.corr : {corr_diff:.5f}')"
   ]
  },
  {
   "cell_type": "markdown",
   "id": "878b6131",
   "metadata": {},
   "source": [
    "Given that there are little to no difference between the values, it's safe to safe the custom function are good for use"
   ]
  }
 ],
 "metadata": {
  "kernelspec": {
   "display_name": "Python 3 (ipykernel)",
   "language": "python",
   "name": "python3"
  },
  "language_info": {
   "codemirror_mode": {
    "name": "ipython",
    "version": 3
   },
   "file_extension": ".py",
   "mimetype": "text/x-python",
   "name": "python",
   "nbconvert_exporter": "python",
   "pygments_lexer": "ipython3",
   "version": "3.10.9"
  }
 },
 "nbformat": 4,
 "nbformat_minor": 5
}
