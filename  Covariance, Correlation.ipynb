{
 "cells": [
  {
   "cell_type": "markdown",
   "id": "43866b0b",
   "metadata": {},
   "source": [
    "# Covariance, Correlation\n",
    "__Task__ : Given a dataframe, create a function that calculate correlation, covariance without using the numpy.cov"
   ]
  },
  {
   "cell_type": "markdown",
   "id": "ba381708",
   "metadata": {},
   "source": [
    "## Set up a dataframe"
   ]
  },
  {
   "cell_type": "code",
   "execution_count": 191,
   "id": "9ce2f455",
   "metadata": {},
   "outputs": [
    {
     "data": {
      "text/html": [
       "<div>\n",
       "<style scoped>\n",
       "    .dataframe tbody tr th:only-of-type {\n",
       "        vertical-align: middle;\n",
       "    }\n",
       "\n",
       "    .dataframe tbody tr th {\n",
       "        vertical-align: top;\n",
       "    }\n",
       "\n",
       "    .dataframe thead th {\n",
       "        text-align: right;\n",
       "    }\n",
       "</style>\n",
       "<table border=\"1\" class=\"dataframe\">\n",
       "  <thead>\n",
       "    <tr style=\"text-align: right;\">\n",
       "      <th></th>\n",
       "      <th>column1</th>\n",
       "      <th>column2</th>\n",
       "    </tr>\n",
       "  </thead>\n",
       "  <tbody>\n",
       "    <tr>\n",
       "      <th>0</th>\n",
       "      <td>3.399892</td>\n",
       "      <td>52.346357</td>\n",
       "    </tr>\n",
       "    <tr>\n",
       "      <th>1</th>\n",
       "      <td>1.992643</td>\n",
       "      <td>39.943306</td>\n",
       "    </tr>\n",
       "    <tr>\n",
       "      <th>2</th>\n",
       "      <td>2.618018</td>\n",
       "      <td>45.869692</td>\n",
       "    </tr>\n",
       "    <tr>\n",
       "      <th>3</th>\n",
       "      <td>2.117674</td>\n",
       "      <td>37.260266</td>\n",
       "    </tr>\n",
       "    <tr>\n",
       "      <th>4</th>\n",
       "      <td>4.068317</td>\n",
       "      <td>56.313580</td>\n",
       "    </tr>\n",
       "  </tbody>\n",
       "</table>\n",
       "</div>"
      ],
      "text/plain": [
       "    column1    column2\n",
       "0  3.399892  52.346357\n",
       "1  1.992643  39.943306\n",
       "2  2.618018  45.869692\n",
       "3  2.117674  37.260266\n",
       "4  4.068317  56.313580"
      ]
     },
     "execution_count": 191,
     "metadata": {},
     "output_type": "execute_result"
    }
   ],
   "source": [
    "import numpy as np\n",
    "import pandas as pd\n",
    "\n",
    "pd.set_option('display.max_row', None)\n",
    "\n",
    "x = np.random.normal(3, 1, 100)\n",
    "y = np.random.normal(50, 10, 100)\n",
    "\n",
    "df = pd.DataFrame({'column1' : x, 'column2' : y})\n",
    "\n",
    "df.head()"
   ]
  },
  {
   "cell_type": "markdown",
   "id": "c32b0122",
   "metadata": {},
   "source": [
    "## Covariance\n",
    "There're 2 formulas calculating 'Covariance' depending if data is from sample population or entire population \n",
    "<br>\n",
    "<br>\n",
    "<br>\n",
    "Population Covariance = $\\frac{1}{n} \\sum_{i=1}^{n} (x_i - \\bar{x})(y_i - \\bar{y}) / n$\n",
    "<br>\n",
    "Sample Covariance = $\\frac{1}{n} \\sum_{i=1}^{n} (x_i - \\bar{x})(y_i - \\bar{y}) / (n-1)$\n",
    "<br>\n",
    "<br>\n",
    "<br>\n",
    "I'll go with the sample Covariance forumula in this task since it's more often than not the more likely scenario"
   ]
  },
  {
   "cell_type": "code",
   "execution_count": 201,
   "id": "3692ef13",
   "metadata": {},
   "outputs": [],
   "source": [
    "def cov(df, x, y):\n",
    "    '''\n",
    "    Given a dataframe, calculate the covariance between 2 columns\n",
    "    \n",
    "    Parameters :\n",
    "    - df (Dataframe): Dataframe containing the data\n",
    "    - x (str) : Name of the first column\n",
    "    - y (str) : Name of the second column\n",
    "    \n",
    "    Returns :\n",
    "    - float : Covariance of the 2 columns\n",
    "    '''\n",
    "    x_mean = df[x].mean()\n",
    "    y_mean = df[x].mean()\n",
    "    \n",
    "    return sum((df[x] - x_mean)*(df[y] - y_mean))/(len(df)-1)"
   ]
  },
  {
   "cell_type": "markdown",
   "id": "ed0245b4",
   "metadata": {},
   "source": [
    "## Correlation\n",
    "\n",
    "Correlation = $\\frac{{\\text{cov}(X, Y)}}{{\\sigma_X \\cdot \\sigma_Y}}$"
   ]
  },
  {
   "cell_type": "code",
   "execution_count": 203,
   "id": "5bcf341f",
   "metadata": {},
   "outputs": [],
   "source": [
    "def corr(df, x, y) :\n",
    "    '''\n",
    "    Given a dataframe, calculate the correlation between 2 columns\n",
    "    \n",
    "    Parameters :\n",
    "    - df (Dataframe): Dataframe containing the data\n",
    "    - x (str) : Name of the first column\n",
    "    - y (str) : Name of the second column\n",
    "    \n",
    "    Returns :\n",
    "    - float : Correlation of the 2 columns\n",
    "    '''\n",
    "    return cov(df, x, y)/(df[x].std()*df[y].std())"
   ]
  },
  {
   "cell_type": "markdown",
   "id": "eaab5430",
   "metadata": {},
   "source": [
    "## Call the functions"
   ]
  },
  {
   "cell_type": "code",
   "execution_count": 195,
   "id": "f12919e2",
   "metadata": {},
   "outputs": [
    {
     "name": "stdout",
     "output_type": "stream",
     "text": [
      "Covariance : -0.57\n",
      "Correlation : -0.06\n"
     ]
    }
   ],
   "source": [
    "cov_computed = cov(df, \"column1\", \"column2\")\n",
    "corr_computed = corr(df, \"column1\", \"column2\")\n",
    "\n",
    "\n",
    "print(f'Covariance : {cov_computed:.2f}')\n",
    "print(f'Correlation : {corr_computed:.2f}')"
   ]
  },
  {
   "cell_type": "markdown",
   "id": "7f4644b5",
   "metadata": {},
   "source": [
    "## Sanity Check"
   ]
  },
  {
   "cell_type": "code",
   "execution_count": 197,
   "id": "674cc69f",
   "metadata": {},
   "outputs": [
    {
     "name": "stdout",
     "output_type": "stream",
     "text": [
      "Difference between covariance computed by custom function and numpy.cov : -0.00000\n",
      "Difference between correlation computed by custom function and pd.corr : -0.00000\n"
     ]
    }
   ],
   "source": [
    "np_cov = np.cov(df['column1'], df['column2'])[0, 1]\n",
    "pd_corr = df['column1'].corr(df['column2'])\n",
    "\n",
    "cov_diff = cov_computed - np_cov\n",
    "corr_diff = corr_computed - pd_corr\n",
    "\n",
    "print(f'Difference between covariance computed by custom function and numpy.cov : {cov_diff:.5f}')\n",
    "print(f'Difference between correlation computed by custom function and pd.corr : {corr_diff:.5f}')"
   ]
  },
  {
   "cell_type": "markdown",
   "id": "739b19d6",
   "metadata": {},
   "source": [
    "Given that there are little to no difference between the values, it's safe to safe the custom function are good for use"
   ]
  }
 ],
 "metadata": {
  "kernelspec": {
   "display_name": "Python 3 (ipykernel)",
   "language": "python",
   "name": "python3"
  },
  "language_info": {
   "codemirror_mode": {
    "name": "ipython",
    "version": 3
   },
   "file_extension": ".py",
   "mimetype": "text/x-python",
   "name": "python",
   "nbconvert_exporter": "python",
   "pygments_lexer": "ipython3",
   "version": "3.10.9"
  }
 },
 "nbformat": 4,
 "nbformat_minor": 5
}
